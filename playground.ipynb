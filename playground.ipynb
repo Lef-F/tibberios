{
 "cells": [
  {
   "cell_type": "markdown",
   "metadata": {},
   "source": [
    "# Tibber Python playground"
   ]
  },
  {
   "cell_type": "markdown",
   "metadata": {},
   "source": [
    "## Load and fetch data from the Tibber API"
   ]
  },
  {
   "cell_type": "code",
   "execution_count": null,
   "metadata": {},
   "outputs": [],
   "source": [
    "import json\n",
    "import tibber\n",
    "import pandas as pd\n",
    "import sqlite3 as sql\n",
    "from datetime import datetime, timedelta\n",
    "import plotly.express as px\n",
    "pd.options.plotting.backend = \"plotly\""
   ]
  },
  {
   "cell_type": "code",
   "execution_count": null,
   "metadata": {},
   "outputs": [],
   "source": [
    "with open(\"config.json\", \"r\") as f:\n",
    "    TIBBER = json.load(f)"
   ]
  },
  {
   "cell_type": "code",
   "execution_count": null,
   "metadata": {},
   "outputs": [],
   "source": [
    "access_token = TIBBER[\"TIBBER_API_KEY\"]\n",
    "tibber_connection = tibber.Tibber(access_token)\n",
    "await tibber_connection.update_info()\n",
    "print(tibber_connection.name)\n",
    "\n",
    "home = tibber_connection.get_homes()[0]\n",
    "# await home.update_info()\n",
    "# print(home.address1)\n",
    "\n",
    "# await home.update_price_info()\n",
    "# print(home.current_price_info)"
   ]
  },
  {
   "cell_type": "code",
   "execution_count": null,
   "metadata": {},
   "outputs": [],
   "source": [
    "history = await home.get_historic_data(900)"
   ]
  },
  {
   "cell_type": "code",
   "execution_count": null,
   "metadata": {},
   "outputs": [],
   "source": [
    "len(history)"
   ]
  },
  {
   "cell_type": "code",
   "execution_count": null,
   "metadata": {},
   "outputs": [],
   "source": [
    "history[40]"
   ]
  },
  {
   "cell_type": "code",
   "execution_count": null,
   "metadata": {},
   "outputs": [],
   "source": [
    "await tibber_connection.close_connection()"
   ]
  },
  {
   "cell_type": "markdown",
   "metadata": {},
   "source": [
    "## Save to SQLite"
   ]
  },
  {
   "cell_type": "code",
   "execution_count": null,
   "metadata": {},
   "outputs": [],
   "source": [
    "db = sql.connect(database='tibber.db')"
   ]
  },
  {
   "cell_type": "code",
   "execution_count": null,
   "metadata": {},
   "outputs": [],
   "source": [
    "# df.to_sql(name='consumption', con=db, schema='home')"
   ]
  },
  {
   "cell_type": "markdown",
   "metadata": {},
   "source": [
    "```json\n",
    "{\n",
    "    \"from\": \"2022-09-08T16:00:00.000+02:00\",\n",
    "    \"unitPrice\": 3.9428125,\n",
    "    \"totalCost\": 3.5238416666666668,\n",
    "    \"cost\": 3.469675,\n",
    "    \"consumption\": 0.88\n",
    "}\n",
    "```"
   ]
  },
  {
   "cell_type": "code",
   "execution_count": null,
   "metadata": {},
   "outputs": [],
   "source": [
    "create_table = \"\"\"\n",
    "    CREATE TABLE IF NOT EXISTS consumption(\n",
    "        start_time DATE PRIMARY KEY,\n",
    "        unit_price REAL,\n",
    "        total_cost REAL,\n",
    "        cost REAL,\n",
    "        consumption REAL\n",
    "    );\n",
    "\"\"\"\n",
    "\n",
    "upsert_table = \"\"\"\n",
    "    INSERT INTO consumption(\n",
    "        start_time\n",
    "        , unit_price\n",
    "        , total_cost\n",
    "        , cost\n",
    "        , consumption\n",
    "    )\n",
    "    VALUES(?, ?, ?, ?, ?)\n",
    "    ON CONFLICT(start_time) DO UPDATE SET\n",
    "        unit_price = excluded.unit_price\n",
    "        , total_cost = excluded.total_cost\n",
    "        , cost = excluded.cost\n",
    "        , consumption = excluded.consumption;\n",
    "\"\"\""
   ]
  },
  {
   "cell_type": "code",
   "execution_count": null,
   "metadata": {},
   "outputs": [],
   "source": [
    "db.execute(create_table)\n",
    "db.executemany(upsert_table, [tuple(row.values()) for row in history])"
   ]
  },
  {
   "cell_type": "code",
   "execution_count": null,
   "metadata": {},
   "outputs": [],
   "source": [
    "df = pd.read_sql_query(sql=\"select * from consumption order by start_time;\", con=db)\n",
    "# db.close()\n",
    "df.head()"
   ]
  },
  {
   "cell_type": "markdown",
   "metadata": {},
   "source": [
    "## Visualize"
   ]
  },
  {
   "cell_type": "code",
   "execution_count": null,
   "metadata": {},
   "outputs": [],
   "source": [
    "df[\"start_time\"] = pd.to_datetime(df[\"start_time\"])\n",
    "df.set_index(\"start_time\", drop=True, inplace=True)"
   ]
  },
  {
   "cell_type": "code",
   "execution_count": null,
   "metadata": {},
   "outputs": [],
   "source": [
    "df[[\"unit_price\", \"consumption\"]].dtypes"
   ]
  },
  {
   "cell_type": "code",
   "execution_count": null,
   "metadata": {},
   "outputs": [],
   "source": [
    "px.line(\n",
    "    df, y=[\"unit_price\",\"consumption\"]\n",
    ")"
   ]
  },
  {
   "cell_type": "code",
   "execution_count": null,
   "metadata": {},
   "outputs": [],
   "source": [
    "current_time = datetime.now()\n",
    "start_time = current_time - timedelta(days=1)\n",
    "end_time = current_time + timedelta(days=1)\n",
    "print(f\"current_time: {current_time}\\nstart_time: {start_time}\\nend_time: {end_time}\")"
   ]
  },
  {
   "cell_type": "code",
   "execution_count": null,
   "metadata": {},
   "outputs": [],
   "source": [
    "# .between_time(start_time=start_time, end_time=end_time)"
   ]
  }
 ],
 "metadata": {
  "kernelspec": {
   "display_name": "Python 3.10.6 ('tibberios-wI1gFXe3-py3.10')",
   "language": "python",
   "name": "python3"
  },
  "language_info": {
   "codemirror_mode": {
    "name": "ipython",
    "version": 3
   },
   "file_extension": ".py",
   "mimetype": "text/x-python",
   "name": "python",
   "nbconvert_exporter": "python",
   "pygments_lexer": "ipython3",
   "version": "3.10.6"
  },
  "orig_nbformat": 4,
  "vscode": {
   "interpreter": {
    "hash": "ac46fcb866d1c8b813b4205fead52c540089a80a0ae36c79de7f0a966ab24a7d"
   }
  }
 },
 "nbformat": 4,
 "nbformat_minor": 2
}
